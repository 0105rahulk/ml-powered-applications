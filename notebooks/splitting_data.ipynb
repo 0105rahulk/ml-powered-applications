{
 "cells": [
  {
   "cell_type": "markdown",
   "metadata": {},
   "source": [
    "# Splitting data\n",
    "\n",
    "Splitting data is a crucial step when it comes to validating models, let's demonstrate a couple ways to do just that. First, we load data."
   ]
  },
  {
   "cell_type": "code",
   "execution_count": 1,
   "metadata": {},
   "outputs": [
    {
     "name": "stderr",
     "output_type": "stream",
     "text": [
      "/Users/emmanuel.ameisen/ml_editor/lib/python3.6/site-packages/IPython/core/interactiveshell.py:3049: DtypeWarning: Columns (6) have mixed types. Specify dtype option on import or set low_memory=False.\n",
      "  interactivity=interactivity, compiler=compiler, result=result)\n"
     ]
    }
   ],
   "source": [
    "import pandas as pd\n",
    "import spacy\n",
    "import umap\n",
    "import numpy as np \n",
    "from pathlib import Path\n",
    "import sys\n",
    "sys.path.append(\"..\")\n",
    "\n",
    "from ml_editor.data_processing import format_raw_df\n",
    "\n",
    "data_path = Path('../data/writers.csv')\n",
    "df = pd.read_csv(data_path)\n",
    "df = format_raw_df(df.copy())"
   ]
  },
  {
   "cell_type": "markdown",
   "metadata": {},
   "source": [
    "## Random Split\n",
    "\n",
    "The simplest way to generate a test set is to randomly split data between train and test."
   ]
  },
  {
   "cell_type": "code",
   "execution_count": 2,
   "metadata": {},
   "outputs": [],
   "source": [
    "from ml_editor.data_processing import get_random_train_test_split, get_vectorized_inputs_and_label\n",
    "\n",
    "train_df_rand, test_df_rand = get_random_train_test_split(df[df[\"is_question\"]], test_size=0.3, random_state=40)"
   ]
  },
  {
   "cell_type": "code",
   "execution_count": 3,
   "metadata": {},
   "outputs": [
    {
     "name": "stdout",
     "output_type": "stream",
     "text": [
      "5579 questions in training, 2392 in test.\n",
      "5579 different owners in the training set\n",
      "2392 different owners in the testing set\n",
      "596 owners appear in both sets\n"
     ]
    }
   ],
   "source": [
    "print(\"%s questions in training, %s in test.\" % (len(train_df_rand),len(test_df_rand)))\n",
    "train_owners = set(train_df_rand['OwnerUserId'].values)\n",
    "test_owners = set(test_df_rand['OwnerUserId'].values)\n",
    "print(\"%s different owners in the training set\" % len(train_df_rand))\n",
    "print(\"%s different owners in the testing set\" % len(test_df_rand))\n",
    "print(\"%s owners appear in both sets\" % len(train_owners.intersection(test_owners)))"
   ]
  },
  {
   "cell_type": "markdown",
   "metadata": {},
   "source": [
    "## Author Split\n",
    "\n",
    "Some authors may be more successful on average, and that may due to factors other than the quality of their formulation such as their popularity. Ideally, we would want to make sure that a given author only appears in either the training set or the validation set. This guarantee that a model will not be able to leverage information to identify a given author and use it to predict more easily.\n",
    "\n",
    "To remove this potential source of bias, let's split data by author"
   ]
  },
  {
   "cell_type": "code",
   "execution_count": 4,
   "metadata": {
    "scrolled": true
   },
   "outputs": [
    {
     "name": "stdout",
     "output_type": "stream",
     "text": [
      "5676 questions in training, 2295 in test.\n",
      "2723 different owners in the training set\n",
      "1167 different owners in the testing set\n",
      "0 owners appear in both sets\n"
     ]
    }
   ],
   "source": [
    "from ml_editor.data_processing import get_split_by_author\n",
    "\n",
    "train_author, test_author = get_split_by_author(df[df[\"is_question\"]], test_size=0.3, random_state=40)\n",
    "\n",
    "print(\"%s questions in training, %s in test.\" % (len(train_author),len(test_author)))\n",
    "train_owners = set(train_author['OwnerUserId'].values)\n",
    "test_owners = set(test_author['OwnerUserId'].values)\n",
    "print(\"%s different owners in the training set\" % len(train_owners))\n",
    "print(\"%s different owners in the testing set\" % len(test_owners))\n",
    "print(\"%s owners appear in both sets\" % len(train_owners.intersection(test_owners)))"
   ]
  },
  {
   "cell_type": "markdown",
   "metadata": {},
   "source": [
    "And now, we have a better data split that we will use going forward!"
   ]
  },
  {
   "cell_type": "code",
   "execution_count": null,
   "metadata": {},
   "outputs": [],
   "source": []
  }
 ],
 "metadata": {
  "kernelspec": {
   "display_name": "ml_editor",
   "language": "python",
   "name": "ml_editor"
  },
  "language_info": {
   "codemirror_mode": {
    "name": "ipython",
    "version": 3
   },
   "file_extension": ".py",
   "mimetype": "text/x-python",
   "name": "python",
   "nbconvert_exporter": "python",
   "pygments_lexer": "ipython3",
   "version": "3.6.5"
  }
 },
 "nbformat": 4,
 "nbformat_minor": 2
}
