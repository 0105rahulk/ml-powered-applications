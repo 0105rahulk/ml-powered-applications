{
 "cells": [
  {
   "cell_type": "markdown",
   "metadata": {},
   "source": [
    "# Inspect feature importance\n",
    "\n",
    "A good way to diagnose a model is to look at which features are important. First we load the model"
   ]
  },
  {
   "cell_type": "code",
   "execution_count": 1,
   "metadata": {},
   "outputs": [
    {
     "name": "stderr",
     "output_type": "stream",
     "text": [
      "/Users/emmanuel.ameisen/ml_editor/lib/python3.6/site-packages/IPython/core/interactiveshell.py:3049: DtypeWarning: Columns (6) have mixed types. Specify dtype option on import or set low_memory=False.\n",
      "  interactivity=interactivity, compiler=compiler, result=result)\n"
     ]
    }
   ],
   "source": [
    "import pandas as pd\n",
    "import numpy as np\n",
    "import matplotlib.pyplot as plt\n",
    "from pathlib import Path\n",
    "\n",
    "import sys\n",
    "sys.path.append(\"..\")\n",
    "from ml_editor.data_processing import format_raw_df\n",
    "\n",
    "data_path = Path('../data/writers.csv')\n",
    "df = pd.read_csv(data_path)\n",
    "df = format_raw_df(df.copy())"
   ]
  },
  {
   "cell_type": "code",
   "execution_count": 2,
   "metadata": {},
   "outputs": [],
   "source": [
    "from ml_editor.data_processing import get_split_by_author, get_vectorized_inputs_and_label, add_features_to_df\n",
    "\n",
    "df = add_features_to_df(df.loc[df[\"is_question\"]].copy(), pretrained_vectors=True)\n",
    "train_df, test_df = get_split_by_author(df, test_size=0.2, random_state=40)"
   ]
  },
  {
   "cell_type": "code",
   "execution_count": 3,
   "metadata": {},
   "outputs": [],
   "source": [
    "X_train, y_train = get_vectorized_inputs_and_label(train_df)\n",
    "X_test, y_test = get_vectorized_inputs_and_label(test_df)"
   ]
  },
  {
   "cell_type": "code",
   "execution_count": 4,
   "metadata": {},
   "outputs": [],
   "source": [
    "from sklearn.externals import joblib\n",
    "\n",
    "model_path = Path(\"../models/model_1.pkl\")\n",
    "clf = joblib.load(model_path) \n",
    "\n",
    "y_predicted = clf.predict(X_test)\n",
    "y_predicted_proba = clf.predict_proba(X_test)"
   ]
  },
  {
   "cell_type": "markdown",
   "metadata": {},
   "source": [
    "Now let's look at the most important features"
   ]
  },
  {
   "cell_type": "code",
   "execution_count": 5,
   "metadata": {},
   "outputs": [],
   "source": [
    "from ml_editor.model_evaluation import get_feature_importance\n",
    "\n",
    "feature_names = [\n",
    "    \"action_verb_full\",\n",
    "    \"question_mark_full\",\n",
    "    \"norm_text_len\",\n",
    "    \"language_question\",\n",
    "]\n",
    "\n",
    "w_indices = [\"word_vector_index_%s\" % s for s in range(300)]\n",
    "w_indices.extend(feature_names)\n",
    "all_feature_names = np.array(w_indices)\n",
    "\n"
   ]
  },
  {
   "cell_type": "code",
   "execution_count": 6,
   "metadata": {
    "scrolled": true
   },
   "outputs": [
    {
     "name": "stdout",
     "output_type": "stream",
     "text": [
      "Top 5 importances:\n",
      "\n",
      "norm_text_len: 0.0065\n",
      "word_vector_index_160: 0.0052\n",
      "word_vector_index_122: 0.0044\n",
      "word_vector_index_90: 0.0044\n",
      "word_vector_index_267: 0.0043\n",
      "\n",
      "Bottom 5 importances:\n",
      "\n",
      "word_vector_index_106: 0.0026\n",
      "word_vector_index_137: 0.0024\n",
      "action_verb_full: 0.00046\n",
      "question_mark_full: 0.00035\n",
      "language_question: 0.00011\n"
     ]
    }
   ],
   "source": [
    "\n",
    "print(\"Top 5 importances:\\n\")\n",
    "print('\\n'.join([\"%s: %.2g\" % (tup[0], tup[1]) for tup in get_feature_importance(clf, all_feature_names)[:5]]))\n",
    "\n",
    "print(\"\\nBottom 5 importances:\\n\")\n",
    "print('\\n'.join([\"%s: %.2g\" % (tup[0], tup[1]) for tup in get_feature_importance(clf, all_feature_names)[-5:]]))"
   ]
  },
  {
   "cell_type": "markdown",
   "metadata": {},
   "source": [
    "The word vector indices aren't as clearly explainable, but we can see that the text length is the most important feature. On the other hand, our other generated features end up being the least important. "
   ]
  }
 ],
 "metadata": {
  "kernelspec": {
   "display_name": "ml_editor",
   "language": "python",
   "name": "ml_editor"
  },
  "language_info": {
   "codemirror_mode": {
    "name": "ipython",
    "version": 3
   },
   "file_extension": ".py",
   "mimetype": "text/x-python",
   "name": "python",
   "nbconvert_exporter": "python",
   "pygments_lexer": "ipython3",
   "version": "3.6.5"
  }
 },
 "nbformat": 4,
 "nbformat_minor": 2
}
